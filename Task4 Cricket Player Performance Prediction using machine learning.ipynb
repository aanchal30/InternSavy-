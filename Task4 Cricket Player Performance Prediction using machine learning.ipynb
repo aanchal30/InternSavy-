{
 "cells": [
  {
   "cell_type": "code",
   "execution_count": 44,
   "id": "c750c386",
   "metadata": {},
   "outputs": [],
   "source": [
    "import numpy as np \n",
    "import pandas as pd \n",
    "import datetime\n",
    "import matplotlib.pyplot as plt   \n",
    "import seaborn as sns\n",
    "from subprocess import check_output\n",
    "from sklearn.preprocessing import LabelEncoder, OneHotEncoder\n",
    "from sklearn.model_selection import train_test_split\n",
    "from sklearn.preprocessing import StandardScaler\n",
    "from sklearn.ensemble import RandomForestClassifier\n",
    "from sklearn.metrics import confusion_matrix\n"
   ]
  },
  {
   "cell_type": "code",
   "execution_count": 45,
   "id": "008c4a40",
   "metadata": {},
   "outputs": [],
   "source": [
    "df = pd.read_csv('ODI_Match_Results.csv') \n"
   ]
  },
  {
   "cell_type": "code",
   "execution_count": 46,
   "id": "2380ab56",
   "metadata": {},
   "outputs": [
    {
     "data": {
      "text/html": [
       "<div>\n",
       "<style scoped>\n",
       "    .dataframe tbody tr th:only-of-type {\n",
       "        vertical-align: middle;\n",
       "    }\n",
       "\n",
       "    .dataframe tbody tr th {\n",
       "        vertical-align: top;\n",
       "    }\n",
       "\n",
       "    .dataframe thead th {\n",
       "        text-align: right;\n",
       "    }\n",
       "</style>\n",
       "<table border=\"1\" class=\"dataframe\">\n",
       "  <thead>\n",
       "    <tr style=\"text-align: right;\">\n",
       "      <th></th>\n",
       "      <th>Unnamed: 0</th>\n",
       "      <th>Result</th>\n",
       "      <th>Margin</th>\n",
       "      <th>BR</th>\n",
       "      <th>Toss</th>\n",
       "      <th>Bat</th>\n",
       "      <th>Opposition</th>\n",
       "      <th>Ground</th>\n",
       "      <th>Start Date</th>\n",
       "      <th>Match_ID</th>\n",
       "      <th>Country</th>\n",
       "      <th>Country_ID</th>\n",
       "    </tr>\n",
       "  </thead>\n",
       "  <tbody>\n",
       "    <tr>\n",
       "      <th>0</th>\n",
       "      <td>418</td>\n",
       "      <td>won</td>\n",
       "      <td>85 runs</td>\n",
       "      <td>NaN</td>\n",
       "      <td>lost</td>\n",
       "      <td>1st</td>\n",
       "      <td>v India</td>\n",
       "      <td>Kolkata</td>\n",
       "      <td>3 Jan 2013</td>\n",
       "      <td>ODI # 3315</td>\n",
       "      <td>Pakistan</td>\n",
       "      <td>7</td>\n",
       "    </tr>\n",
       "    <tr>\n",
       "      <th>1</th>\n",
       "      <td>692</td>\n",
       "      <td>lost</td>\n",
       "      <td>85 runs</td>\n",
       "      <td>NaN</td>\n",
       "      <td>won</td>\n",
       "      <td>2nd</td>\n",
       "      <td>v Pakistan</td>\n",
       "      <td>Kolkata</td>\n",
       "      <td>3 Jan 2013</td>\n",
       "      <td>ODI # 3315</td>\n",
       "      <td>India</td>\n",
       "      <td>6</td>\n",
       "    </tr>\n",
       "    <tr>\n",
       "      <th>2</th>\n",
       "      <td>419</td>\n",
       "      <td>lost</td>\n",
       "      <td>10 runs</td>\n",
       "      <td>NaN</td>\n",
       "      <td>lost</td>\n",
       "      <td>2nd</td>\n",
       "      <td>v India</td>\n",
       "      <td>Delhi</td>\n",
       "      <td>6 Jan 2013</td>\n",
       "      <td>ODI # 3316</td>\n",
       "      <td>Pakistan</td>\n",
       "      <td>7</td>\n",
       "    </tr>\n",
       "    <tr>\n",
       "      <th>3</th>\n",
       "      <td>693</td>\n",
       "      <td>won</td>\n",
       "      <td>10 runs</td>\n",
       "      <td>NaN</td>\n",
       "      <td>won</td>\n",
       "      <td>1st</td>\n",
       "      <td>v Pakistan</td>\n",
       "      <td>Delhi</td>\n",
       "      <td>6 Jan 2013</td>\n",
       "      <td>ODI # 3316</td>\n",
       "      <td>India</td>\n",
       "      <td>6</td>\n",
       "    </tr>\n",
       "    <tr>\n",
       "      <th>4</th>\n",
       "      <td>121</td>\n",
       "      <td>lost</td>\n",
       "      <td>107 runs</td>\n",
       "      <td>NaN</td>\n",
       "      <td>lost</td>\n",
       "      <td>2nd</td>\n",
       "      <td>v Australia</td>\n",
       "      <td>Melbourne</td>\n",
       "      <td>11 Jan 2013</td>\n",
       "      <td>ODI # 3317</td>\n",
       "      <td>SriLanka</td>\n",
       "      <td>8</td>\n",
       "    </tr>\n",
       "    <tr>\n",
       "      <th>...</th>\n",
       "      <td>...</td>\n",
       "      <td>...</td>\n",
       "      <td>...</td>\n",
       "      <td>...</td>\n",
       "      <td>...</td>\n",
       "      <td>...</td>\n",
       "      <td>...</td>\n",
       "      <td>...</td>\n",
       "      <td>...</td>\n",
       "      <td>...</td>\n",
       "      <td>...</td>\n",
       "      <td>...</td>\n",
       "    </tr>\n",
       "    <tr>\n",
       "      <th>1317</th>\n",
       "      <td>997</td>\n",
       "      <td>won</td>\n",
       "      <td>3 wickets</td>\n",
       "      <td>3.0</td>\n",
       "      <td>won</td>\n",
       "      <td>2nd</td>\n",
       "      <td>v Pakistan</td>\n",
       "      <td>Nottingham</td>\n",
       "      <td>17 May 2019</td>\n",
       "      <td>ODI # 4138</td>\n",
       "      <td>England</td>\n",
       "      <td>1</td>\n",
       "    </tr>\n",
       "    <tr>\n",
       "      <th>1318</th>\n",
       "      <td>282</td>\n",
       "      <td>aban</td>\n",
       "      <td>-</td>\n",
       "      <td>NaN</td>\n",
       "      <td>-</td>\n",
       "      <td>-</td>\n",
       "      <td>v Scotland</td>\n",
       "      <td>Edinburgh</td>\n",
       "      <td>18 May 2019</td>\n",
       "      <td>ODI # 4138a</td>\n",
       "      <td>SriLanka</td>\n",
       "      <td>8</td>\n",
       "    </tr>\n",
       "    <tr>\n",
       "      <th>1319</th>\n",
       "      <td>1322</td>\n",
       "      <td>-</td>\n",
       "      <td>-</td>\n",
       "      <td>NaN</td>\n",
       "      <td>won</td>\n",
       "      <td>2nd</td>\n",
       "      <td>v Ireland</td>\n",
       "      <td>Belfast</td>\n",
       "      <td>19 May 2019</td>\n",
       "      <td>ODI # 4139</td>\n",
       "      <td>Afghanistan</td>\n",
       "      <td>40</td>\n",
       "    </tr>\n",
       "    <tr>\n",
       "      <th>1320</th>\n",
       "      <td>559</td>\n",
       "      <td>-</td>\n",
       "      <td>-</td>\n",
       "      <td>NaN</td>\n",
       "      <td>lost</td>\n",
       "      <td>2nd</td>\n",
       "      <td>v England</td>\n",
       "      <td>Leeds</td>\n",
       "      <td>19 May 2019</td>\n",
       "      <td>ODI # 4140</td>\n",
       "      <td>Pakistan</td>\n",
       "      <td>7</td>\n",
       "    </tr>\n",
       "    <tr>\n",
       "      <th>1321</th>\n",
       "      <td>998</td>\n",
       "      <td>-</td>\n",
       "      <td>-</td>\n",
       "      <td>NaN</td>\n",
       "      <td>won</td>\n",
       "      <td>1st</td>\n",
       "      <td>v Pakistan</td>\n",
       "      <td>Leeds</td>\n",
       "      <td>19 May 2019</td>\n",
       "      <td>ODI # 4140</td>\n",
       "      <td>England</td>\n",
       "      <td>1</td>\n",
       "    </tr>\n",
       "  </tbody>\n",
       "</table>\n",
       "<p>1322 rows × 12 columns</p>\n",
       "</div>"
      ],
      "text/plain": [
       "      Unnamed: 0 Result     Margin   BR  Toss  Bat   Opposition      Ground  \\\n",
       "0            418    won    85 runs  NaN  lost  1st      v India     Kolkata   \n",
       "1            692   lost    85 runs  NaN   won  2nd   v Pakistan     Kolkata   \n",
       "2            419   lost    10 runs  NaN  lost  2nd      v India       Delhi   \n",
       "3            693    won    10 runs  NaN   won  1st   v Pakistan       Delhi   \n",
       "4            121   lost   107 runs  NaN  lost  2nd  v Australia   Melbourne   \n",
       "...          ...    ...        ...  ...   ...  ...          ...         ...   \n",
       "1317         997    won  3 wickets  3.0   won  2nd   v Pakistan  Nottingham   \n",
       "1318         282   aban          -  NaN     -    -   v Scotland   Edinburgh   \n",
       "1319        1322      -          -  NaN   won  2nd    v Ireland     Belfast   \n",
       "1320         559      -          -  NaN  lost  2nd    v England       Leeds   \n",
       "1321         998      -          -  NaN   won  1st   v Pakistan       Leeds   \n",
       "\n",
       "       Start Date     Match_ID      Country  Country_ID  \n",
       "0      3 Jan 2013   ODI # 3315     Pakistan           7  \n",
       "1      3 Jan 2013   ODI # 3315        India           6  \n",
       "2      6 Jan 2013   ODI # 3316     Pakistan           7  \n",
       "3      6 Jan 2013   ODI # 3316        India           6  \n",
       "4     11 Jan 2013   ODI # 3317     SriLanka           8  \n",
       "...           ...          ...          ...         ...  \n",
       "1317  17 May 2019   ODI # 4138      England           1  \n",
       "1318  18 May 2019  ODI # 4138a     SriLanka           8  \n",
       "1319  19 May 2019   ODI # 4139  Afghanistan          40  \n",
       "1320  19 May 2019   ODI # 4140     Pakistan           7  \n",
       "1321  19 May 2019   ODI # 4140      England           1  \n",
       "\n",
       "[1322 rows x 12 columns]"
      ]
     },
     "execution_count": 46,
     "metadata": {},
     "output_type": "execute_result"
    }
   ],
   "source": [
    "df"
   ]
  },
  {
   "cell_type": "code",
   "execution_count": 47,
   "id": "cbcae919",
   "metadata": {},
   "outputs": [
    {
     "data": {
      "text/plain": [
       "Unnamed: 0      0\n",
       "Result          0\n",
       "Margin          0\n",
       "BR            716\n",
       "Toss            0\n",
       "Bat             0\n",
       "Opposition      0\n",
       "Ground          0\n",
       "Start Date      0\n",
       "Match_ID        0\n",
       "Country         0\n",
       "Country_ID      0\n",
       "dtype: int64"
      ]
     },
     "execution_count": 47,
     "metadata": {},
     "output_type": "execute_result"
    }
   ],
   "source": [
    "df.isnull().sum()"
   ]
  },
  {
   "cell_type": "code",
   "execution_count": 48,
   "id": "a1b52359",
   "metadata": {},
   "outputs": [],
   "source": [
    "df1=df.dropna()"
   ]
  },
  {
   "cell_type": "code",
   "execution_count": 52,
   "id": "c8042490",
   "metadata": {},
   "outputs": [
    {
     "data": {
      "text/html": [
       "<div>\n",
       "<style scoped>\n",
       "    .dataframe tbody tr th:only-of-type {\n",
       "        vertical-align: middle;\n",
       "    }\n",
       "\n",
       "    .dataframe tbody tr th {\n",
       "        vertical-align: top;\n",
       "    }\n",
       "\n",
       "    .dataframe thead th {\n",
       "        text-align: right;\n",
       "    }\n",
       "</style>\n",
       "<table border=\"1\" class=\"dataframe\">\n",
       "  <thead>\n",
       "    <tr style=\"text-align: right;\">\n",
       "      <th></th>\n",
       "      <th>Unnamed: 0</th>\n",
       "      <th>Result</th>\n",
       "      <th>Margin</th>\n",
       "      <th>BR</th>\n",
       "      <th>Toss</th>\n",
       "      <th>Bat</th>\n",
       "      <th>Opposition</th>\n",
       "      <th>Ground</th>\n",
       "      <th>Start Date</th>\n",
       "      <th>Match_ID</th>\n",
       "      <th>Country</th>\n",
       "      <th>Country_ID</th>\n",
       "    </tr>\n",
       "  </thead>\n",
       "  <tbody>\n",
       "    <tr>\n",
       "      <th>8</th>\n",
       "      <td>122</td>\n",
       "      <td>won</td>\n",
       "      <td>8 wickets</td>\n",
       "      <td>59.0</td>\n",
       "      <td>won</td>\n",
       "      <td>2nd</td>\n",
       "      <td>v Australia</td>\n",
       "      <td>Adelaide</td>\n",
       "      <td>13 Jan 2013</td>\n",
       "      <td>ODI # 3319</td>\n",
       "      <td>SriLanka</td>\n",
       "      <td>8</td>\n",
       "    </tr>\n",
       "    <tr>\n",
       "      <th>9</th>\n",
       "      <td>1097</td>\n",
       "      <td>lost</td>\n",
       "      <td>8 wickets</td>\n",
       "      <td>59.0</td>\n",
       "      <td>lost</td>\n",
       "      <td>1st</td>\n",
       "      <td>v Sri Lanka</td>\n",
       "      <td>Adelaide</td>\n",
       "      <td>13 Jan 2013</td>\n",
       "      <td>ODI # 3319</td>\n",
       "      <td>Australia</td>\n",
       "      <td>2</td>\n",
       "    </tr>\n",
       "    <tr>\n",
       "      <th>12</th>\n",
       "      <td>123</td>\n",
       "      <td>won</td>\n",
       "      <td>4 wickets</td>\n",
       "      <td>180.0</td>\n",
       "      <td>lost</td>\n",
       "      <td>2nd</td>\n",
       "      <td>v Australia</td>\n",
       "      <td>Brisbane</td>\n",
       "      <td>18 Jan 2013</td>\n",
       "      <td>ODI # 3321</td>\n",
       "      <td>SriLanka</td>\n",
       "      <td>8</td>\n",
       "    </tr>\n",
       "    <tr>\n",
       "      <th>13</th>\n",
       "      <td>1098</td>\n",
       "      <td>lost</td>\n",
       "      <td>4 wickets</td>\n",
       "      <td>180.0</td>\n",
       "      <td>won</td>\n",
       "      <td>1st</td>\n",
       "      <td>v Sri Lanka</td>\n",
       "      <td>Brisbane</td>\n",
       "      <td>18 Jan 2013</td>\n",
       "      <td>ODI # 3321</td>\n",
       "      <td>Australia</td>\n",
       "      <td>2</td>\n",
       "    </tr>\n",
       "    <tr>\n",
       "      <th>14</th>\n",
       "      <td>696</td>\n",
       "      <td>won</td>\n",
       "      <td>7 wickets</td>\n",
       "      <td>131.0</td>\n",
       "      <td>won</td>\n",
       "      <td>2nd</td>\n",
       "      <td>v England</td>\n",
       "      <td>Ranchi</td>\n",
       "      <td>19 Jan 2013</td>\n",
       "      <td>ODI # 3322</td>\n",
       "      <td>India</td>\n",
       "      <td>6</td>\n",
       "    </tr>\n",
       "    <tr>\n",
       "      <th>...</th>\n",
       "      <td>...</td>\n",
       "      <td>...</td>\n",
       "      <td>...</td>\n",
       "      <td>...</td>\n",
       "      <td>...</td>\n",
       "      <td>...</td>\n",
       "      <td>...</td>\n",
       "      <td>...</td>\n",
       "      <td>...</td>\n",
       "      <td>...</td>\n",
       "      <td>...</td>\n",
       "      <td>...</td>\n",
       "    </tr>\n",
       "    <tr>\n",
       "      <th>1313</th>\n",
       "      <td>1094</td>\n",
       "      <td>won</td>\n",
       "      <td>6 wickets</td>\n",
       "      <td>42.0</td>\n",
       "      <td>lost</td>\n",
       "      <td>2nd</td>\n",
       "      <td>v Ireland</td>\n",
       "      <td>Dublin</td>\n",
       "      <td>15 May 2019</td>\n",
       "      <td>ODI # 4136</td>\n",
       "      <td>Bangladesh</td>\n",
       "      <td>25</td>\n",
       "    </tr>\n",
       "    <tr>\n",
       "      <th>1314</th>\n",
       "      <td>120</td>\n",
       "      <td>lost</td>\n",
       "      <td>5 wickets</td>\n",
       "      <td>7.0</td>\n",
       "      <td>lost</td>\n",
       "      <td>1st</td>\n",
       "      <td>v Bangladesh</td>\n",
       "      <td>Dublin (Malahide)</td>\n",
       "      <td>17 May 2019</td>\n",
       "      <td>ODI # 4137</td>\n",
       "      <td>WestIndies</td>\n",
       "      <td>4</td>\n",
       "    </tr>\n",
       "    <tr>\n",
       "      <th>1315</th>\n",
       "      <td>1095</td>\n",
       "      <td>won</td>\n",
       "      <td>5 wickets</td>\n",
       "      <td>7.0</td>\n",
       "      <td>won</td>\n",
       "      <td>2nd</td>\n",
       "      <td>v West Indies</td>\n",
       "      <td>Dublin (Malahide)</td>\n",
       "      <td>17 May 2019</td>\n",
       "      <td>ODI # 4137</td>\n",
       "      <td>Bangladesh</td>\n",
       "      <td>25</td>\n",
       "    </tr>\n",
       "    <tr>\n",
       "      <th>1316</th>\n",
       "      <td>558</td>\n",
       "      <td>lost</td>\n",
       "      <td>3 wickets</td>\n",
       "      <td>3.0</td>\n",
       "      <td>lost</td>\n",
       "      <td>1st</td>\n",
       "      <td>v England</td>\n",
       "      <td>Nottingham</td>\n",
       "      <td>17 May 2019</td>\n",
       "      <td>ODI # 4138</td>\n",
       "      <td>Pakistan</td>\n",
       "      <td>7</td>\n",
       "    </tr>\n",
       "    <tr>\n",
       "      <th>1317</th>\n",
       "      <td>997</td>\n",
       "      <td>won</td>\n",
       "      <td>3 wickets</td>\n",
       "      <td>3.0</td>\n",
       "      <td>won</td>\n",
       "      <td>2nd</td>\n",
       "      <td>v Pakistan</td>\n",
       "      <td>Nottingham</td>\n",
       "      <td>17 May 2019</td>\n",
       "      <td>ODI # 4138</td>\n",
       "      <td>England</td>\n",
       "      <td>1</td>\n",
       "    </tr>\n",
       "  </tbody>\n",
       "</table>\n",
       "<p>606 rows × 12 columns</p>\n",
       "</div>"
      ],
      "text/plain": [
       "      Unnamed: 0 Result     Margin     BR  Toss  Bat     Opposition  \\\n",
       "8            122    won  8 wickets   59.0   won  2nd    v Australia   \n",
       "9           1097   lost  8 wickets   59.0  lost  1st    v Sri Lanka   \n",
       "12           123    won  4 wickets  180.0  lost  2nd    v Australia   \n",
       "13          1098   lost  4 wickets  180.0   won  1st    v Sri Lanka   \n",
       "14           696    won  7 wickets  131.0   won  2nd      v England   \n",
       "...          ...    ...        ...    ...   ...  ...            ...   \n",
       "1313        1094    won  6 wickets   42.0  lost  2nd      v Ireland   \n",
       "1314         120   lost  5 wickets    7.0  lost  1st   v Bangladesh   \n",
       "1315        1095    won  5 wickets    7.0   won  2nd  v West Indies   \n",
       "1316         558   lost  3 wickets    3.0  lost  1st      v England   \n",
       "1317         997    won  3 wickets    3.0   won  2nd     v Pakistan   \n",
       "\n",
       "                 Ground   Start Date    Match_ID     Country  Country_ID  \n",
       "8              Adelaide  13 Jan 2013  ODI # 3319    SriLanka           8  \n",
       "9              Adelaide  13 Jan 2013  ODI # 3319   Australia           2  \n",
       "12             Brisbane  18 Jan 2013  ODI # 3321    SriLanka           8  \n",
       "13             Brisbane  18 Jan 2013  ODI # 3321   Australia           2  \n",
       "14               Ranchi  19 Jan 2013  ODI # 3322       India           6  \n",
       "...                 ...          ...         ...         ...         ...  \n",
       "1313             Dublin  15 May 2019  ODI # 4136  Bangladesh          25  \n",
       "1314  Dublin (Malahide)  17 May 2019  ODI # 4137  WestIndies           4  \n",
       "1315  Dublin (Malahide)  17 May 2019  ODI # 4137  Bangladesh          25  \n",
       "1316         Nottingham  17 May 2019  ODI # 4138    Pakistan           7  \n",
       "1317         Nottingham  17 May 2019  ODI # 4138     England           1  \n",
       "\n",
       "[606 rows x 12 columns]"
      ]
     },
     "execution_count": 52,
     "metadata": {},
     "output_type": "execute_result"
    }
   ],
   "source": [
    "df1"
   ]
  },
  {
   "cell_type": "code",
   "execution_count": 49,
   "id": "cc45606a",
   "metadata": {},
   "outputs": [
    {
     "data": {
      "image/png": "[encoded data removed]",
      "text/plain": [
       "<Figure size 576x432 with 1 Axes>"
      ]
     },
     "metadata": {
      "needs_background": "light"
     },
     "output_type": "display_data"
    }
   ],
   "source": [
    "df1.Country.value_counts().plot(kind='bar', title=\"Country\", figsize=(8,6))\n",
    "plt.show()"
   ]
  },
  {
   "cell_type": "code",
   "execution_count": 55,
   "id": "2c406dba",
   "metadata": {},
   "outputs": [
    {
     "data": {
      "image/png": "[encoded data removed]",
      "text/plain": [
       "<Figure size 576x432 with 1 Axes>"
      ]
     },
     "metadata": {},
     "output_type": "display_data"
    }
   ],
   "source": [
    "df1.Result.value_counts().plot(kind='pie', title=\"Result\", figsize=(8,6))\n",
    "plt.show()"
   ]
  },
  {
   "cell_type": "code",
   "execution_count": 50,
   "id": "ce5c9a3e",
   "metadata": {},
   "outputs": [
    {
     "data": {
      "text/plain": [
       "<seaborn.axisgrid.PairGrid at 0x2216b7da5b0>"
      ]
     },
     "execution_count": 50,
     "metadata": {},
     "output_type": "execute_result"
    },
    {
     "data": {
      "image/png": "[encoded data removed]",
      "text/plain": [
       "<Figure size 540x540 with 12 Axes>"
      ]
     },
     "metadata": {
      "needs_background": "light"
     },
     "output_type": "display_data"
    }
   ],
   "source": [
    "sns.pairplot(df1)"
   ]
  },
  {
   "cell_type": "code",
   "execution_count": 54,
   "id": "db848efc",
   "metadata": {},
   "outputs": [
    {
     "data": {
      "image/png": "[encoded data removed]",
      "text/plain": [
       "<Figure size 432x288 with 1 Axes>"
      ]
     },
     "metadata": {
      "needs_background": "light"
     },
     "output_type": "display_data"
    }
   ],
   "source": [
    "df1.plot(kind='scatter' ,x='Result',y='BR')\n",
    "plt.show()"
   ]
  },
  {
   "cell_type": "code",
   "execution_count": 51,
   "id": "a37c153d",
   "metadata": {},
   "outputs": [],
   "source": [
    "y = df1['Result']\n",
    "\n",
    "X = df1.loc[:,['Margin','Toss','Bat','Opposition','Ground','Country']]"
   ]
  },
  {
   "cell_type": "code",
   "execution_count": 36,
   "id": "6ad9ce68",
   "metadata": {},
   "outputs": [],
   "source": [
    "labelencoder_X = LabelEncoder()\n",
    "onehotencoder = OneHotEncoder()\n",
    "X = onehotencoder.fit_transform(X).toarray()\n",
    "labelencoder_y = LabelEncoder()\n",
    "y = labelencoder_y.fit_transform(y)\n",
    "X_train, X_test, y_train, y_test = train_test_split(X, y, test_size = 0.25, random_state = 0)\n"
   ]
  },
  {
   "cell_type": "code",
   "execution_count": 37,
   "id": "f1f8639f",
   "metadata": {},
   "outputs": [],
   "source": [
    "sc = StandardScaler()\n",
    "X_train = sc.fit_transform(X_train)\n",
    "X_test = sc.transform(X_test)"
   ]
  },
  {
   "cell_type": "code",
   "execution_count": 38,
   "id": "d63a1471",
   "metadata": {},
   "outputs": [
    {
     "data": {
      "text/plain": [
       "RandomForestClassifier(criterion='entropy', n_estimators=10, random_state=0)"
      ]
     },
     "execution_count": 38,
     "metadata": {},
     "output_type": "execute_result"
    }
   ],
   "source": [
    "classifier = RandomForestClassifier(n_estimators = 10, criterion = 'entropy', random_state = 0)\n",
    "classifier.fit(X_train, y_train)\n"
   ]
  },
  {
   "cell_type": "code",
   "execution_count": 39,
   "id": "ffb2f8de",
   "metadata": {},
   "outputs": [
    {
     "data": {
      "text/plain": [
       "array([0, 1, 1, 1, 0, 1, 0, 1, 0, 1, 1, 1, 1, 1, 1, 1, 1, 1, 1, 0, 1, 0,\n",
       "       0, 1, 1, 1, 1, 0, 0, 0, 0, 1, 1, 0, 1, 0, 1, 0, 0, 1, 1, 1, 0, 1,\n",
       "       0, 0, 0, 0, 0, 1, 0, 1, 0, 0, 1, 1, 0, 1, 1, 1, 0, 0, 0, 1, 1, 1,\n",
       "       0, 0, 0, 1, 1, 0, 1, 0, 1, 0, 0, 1, 1, 1, 0, 0, 0, 0, 0, 1, 1, 0,\n",
       "       0, 1, 0, 1, 1, 1, 0, 0, 1, 0, 0, 0, 0, 1, 1, 0, 1, 1, 1, 0, 0, 0,\n",
       "       0, 0, 1, 1, 1, 0, 0, 0, 0, 0, 0, 1, 1, 1, 1, 0, 0, 0, 1, 1, 1, 1,\n",
       "       0, 1, 0, 0, 0, 1, 1, 1, 1, 1, 0, 0, 1, 0, 0, 1, 0, 0, 0, 1])"
      ]
     },
     "execution_count": 39,
     "metadata": {},
     "output_type": "execute_result"
    }
   ],
   "source": [
    "y_pred = classifier.predict(X_test)\n",
    "y_pred"
   ]
  },
  {
   "cell_type": "code",
   "execution_count": 40,
   "id": "ef7ed0aa",
   "metadata": {},
   "outputs": [
    {
     "name": "stdout",
     "output_type": "stream",
     "text": [
      "[[75  0]\n",
      " [ 0 77]]\n"
     ]
    }
   ],
   "source": [
    "cm = confusion_matrix(y_test, y_pred)\n",
    "y_test\n",
    "print(cm)"
   ]
  },
  {
   "cell_type": "code",
   "execution_count": null,
   "id": "16b60033",
   "metadata": {},
   "outputs": [],
   "source": []
  },
  {
   "cell_type": "code",
   "execution_count": null,
   "id": "c0bcead9",
   "metadata": {},
   "outputs": [],
   "source": []
  }
 ],
 "metadata": {
  "kernelspec": {
   "display_name": "Python 3 (ipykernel)",
   "language": "python",
   "name": "python3"
  },
  "language_info": {
   "codemirror_mode": {
    "name": "ipython",
    "version": 3
   },
   "file_extension": ".py",
   "mimetype": "text/x-python",
   "name": "python",
   "nbconvert_exporter": "python",
   "pygments_lexer": "ipython3",
   "version": "3.9.12"
  }
 },
 "nbformat": 4,
 "nbformat_minor": 5
}
